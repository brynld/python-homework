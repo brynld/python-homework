{
 "cells": [
  {
   "cell_type": "code",
   "execution_count": 1,
   "metadata": {},
   "outputs": [],
   "source": [
    "# Import Pandas\n",
    "import pandas as pd\n"
   ]
  },
  {
   "cell_type": "code",
   "execution_count": 2,
   "metadata": {},
   "outputs": [],
   "source": [
    "# Read CSV file into Dataframe \n",
    "df = pd.read_csv(\"/../..//Users/brynlloyd-davies/uw-blv-fin-pt-11-2020-u-c/02-Python/Homework/Instructions/PyBank/Resources/budget_data.csv\", index_col=0)"
   ]
  },
  {
   "cell_type": "code",
   "execution_count": 4,
   "metadata": {},
   "outputs": [
    {
     "name": "stdout",
     "output_type": "stream",
     "text": [
      "          Profit/Losses\n",
      "Date                   \n",
      "Jan-2010         867884\n",
      "Feb-2010         984655\n",
      "Mar-2010         322013\n",
      "Apr-2010         -69417\n",
      "May-2010         310503\n",
      "...                 ...\n",
      "Oct-2016         102685\n",
      "Nov-2016         795914\n",
      "Dec-2016          60988\n",
      "Jan-2017         138230\n",
      "Feb-2017         671099\n",
      "\n",
      "[86 rows x 1 columns]\n"
     ]
    }
   ],
   "source": [
    "# Show the dataframe\n",
    "\n",
    "print(df)"
   ]
  },
  {
   "cell_type": "code",
   "execution_count": null,
   "metadata": {},
   "outputs": [],
   "source": []
  },
  {
   "cell_type": "code",
   "execution_count": null,
   "metadata": {},
   "outputs": [],
   "source": []
  }
 ],
 "metadata": {
  "kernelspec": {
   "display_name": "Python 3",
   "language": "python",
   "name": "python3"
  },
  "language_info": {
   "codemirror_mode": {
    "name": "ipython",
    "version": 3
   },
   "file_extension": ".py",
   "mimetype": "text/x-python",
   "name": "python",
   "nbconvert_exporter": "python",
   "pygments_lexer": "ipython3",
   "version": "3.8.3"
  }
 },
 "nbformat": 4,
 "nbformat_minor": 4
}
